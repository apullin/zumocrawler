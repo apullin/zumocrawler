{
 "metadata": {
  "name": "",
  "signature": "sha256:7c15d8c83a8301a25c007795dcb9a5126dd3319733de7d4ed63fd3d98139d0db"
 },
 "nbformat": 3,
 "nbformat_minor": 0,
 "worksheets": [
  {
   "cells": [
    {
     "cell_type": "markdown",
     "metadata": {},
     "source": [
      "<img src=\"http://robotics.eecs.berkeley.edu/~ronf/biomimetics-thin.jpg\">"
     ]
    },
    {
     "cell_type": "heading",
     "level": 1,
     "metadata": {},
     "source": [
      "Zumy LCM Node Test"
     ]
    },
    {
     "cell_type": "code",
     "collapsed": false,
     "input": [
      "import time, lcm\n",
      "from fearing import base_cmd\n",
      "import fearing\n",
      "class LCMBot:\n",
      "    def __init__(self, base_cmd_channel):\n",
      "        self.lcm=lcm.LCM('udpm://239.255.76.67:7667?ttl=1')\n",
      "        self.base_cmd_channel = base_cmd_channel\n",
      "        self.msg=base_cmd()\n",
      "        self.msg.header = fearing.header()\n",
      "    def drive(self, l, r):\n",
      "        self.msg.left_cmd=l\n",
      "        self.msg.right_cmd=r\n",
      "        self.lcm.publish(self.base_cmd_channel, self.msg.encode())\n",
      "    "
     ],
     "language": "python",
     "metadata": {},
     "outputs": [],
     "prompt_number": 23
    },
    {
     "cell_type": "code",
     "collapsed": false,
     "input": [
      "robot = LCMBot('zumy044/base_cmd')"
     ],
     "language": "python",
     "metadata": {},
     "outputs": [],
     "prompt_number": 22
    },
    {
     "cell_type": "code",
     "collapsed": false,
     "input": [
      "robot.drive(0,0)"
     ],
     "language": "python",
     "metadata": {},
     "outputs": [],
     "prompt_number": 18
    },
    {
     "cell_type": "code",
     "collapsed": false,
     "input": [
      "robot.drive(.1,.1)"
     ],
     "language": "python",
     "metadata": {},
     "outputs": [],
     "prompt_number": 19
    },
    {
     "cell_type": "markdown",
     "metadata": {},
     "source": [
      "Using IPython interactive widgets we can use sliders:"
     ]
    },
    {
     "cell_type": "code",
     "collapsed": false,
     "input": [
      "from IPython.html.widgets import interact\n",
      "@interact(l=(-1.0,1.0,0.05), r=(-1.0,1.0,0.05))\n",
      "def drive(l=0.,r=0.):\n",
      "    robot.drive(l,r)"
     ],
     "language": "python",
     "metadata": {},
     "outputs": [],
     "prompt_number": 20
    },
    {
     "cell_type": "markdown",
     "metadata": {},
     "source": [
      "Just for fun: scrub through all velocities."
     ]
    },
    {
     "cell_type": "code",
     "collapsed": false,
     "input": [
      "import numpy as np\n",
      "while True:\n",
      "    for speed in np.linspace(-.25, .25):\n",
      "        robot.drive(speed, speed)\n",
      "        time.sleep(.1)\n",
      "    for speed in np.linspace(.25, -.25):\n",
      "        robot.drive(speed, speed)\n",
      "        time.sleep(.1)"
     ],
     "language": "python",
     "metadata": {},
     "outputs": [],
     "prompt_number": 9
    }
   ],
   "metadata": {}
  }
 ]
}