{
 "cells": [
  {
   "cell_type": "markdown",
   "metadata": {},
   "source": [
    "<img width=800 src=\"http://robotics.eecs.berkeley.edu/~ronf/biomimetics-thin.jpg\">"
   ]
  },
  {
   "cell_type": "markdown",
   "metadata": {},
   "source": [
    "# Robot Test"
   ]
  },
  {
   "cell_type": "code",
   "execution_count": 1,
   "metadata": {
    "collapsed": false
   },
   "outputs": [],
   "source": [
    "import time\n",
    "from python.mbedrpc import *\n",
    "import threading"
   ]
  },
  {
   "cell_type": "code",
   "execution_count": 2,
   "metadata": {
    "collapsed": false
   },
   "outputs": [],
   "source": [
    "class Motor:\n",
    "    def __init__(self, a1, a2):\n",
    "        self.a1=a1\n",
    "        self.a2=a2\n",
    "        \n",
    "    def cmd(self, speed):\n",
    "        if speed >=0:\n",
    "            self.a1.write(speed)\n",
    "            self.a2.write(0)\n",
    "        else:\n",
    "            self.a1.write(0)\n",
    "            self.a2.write(-speed)\n",
    "class Robot:\n",
    "    def __init__(self, dev='/dev/ttyACM0'):\n",
    "        self.mbed=SerialRPC(dev, 115200)\n",
    "        a1=PwmOut(self.mbed, p21)\n",
    "        a2=PwmOut(self.mbed, p22)\n",
    "        b1=PwmOut(self.mbed, p23)\n",
    "        b2=PwmOut(self.mbed, p24)\n",
    "        self.led1 = DigitalOut(self.mbed, LED1)\n",
    "        self.led2 = DigitalOut(self.mbed, LED2)\n",
    "        self.led3 = DigitalOut(self.mbed, LED3)\n",
    "        self.led4 = DigitalOut(self.mbed, LED4)\n",
    "        \n",
    "        self.m_right = Motor(a1, a2)\n",
    "        self.m_left = Motor(b1, b2)\n",
    "        self.enabled=True\n",
    "        self.last_left=0\n",
    "        self.last_right=0\n",
    "        self.sensors=[]\n",
    "        for i in (p20,p19,p18,p17,p16,p15):\n",
    "            self.sensors.append(AnalogIn(self.mbed, i))\n",
    "        self.rlock=threading.Lock()\n",
    "    def enable(self):\n",
    "        self.rlock.acquire()\n",
    "        self.enabled=True\n",
    "        self._cmd(self.last_left, self.last_right)\n",
    "        self.rlock.release()\n",
    "    def disable(self):\n",
    "        self.rlock.acquire()\n",
    "        self.enabled=False\n",
    "        self._cmd(self.last_left, self.last_right)\n",
    "        self.rlock.release()\n",
    "    def drive(self, left, right):\n",
    "        self.rlock.acquire()\n",
    "        self._cmd(left, right)\n",
    "        self.rlock.release()\n",
    "    def cmd(self, left, right):\n",
    "        self.rlock.acquire()\n",
    "        self._cmd(left, right)\n",
    "        self.rlock.release()\n",
    "    def _cmd(self, left, right):\n",
    "        self.last_left=left\n",
    "        self.last_right=right\n",
    "        if self.enabled:\n",
    "            self.m_left.cmd(-left)\n",
    "            self.m_right.cmd(right)\n",
    "        else:\n",
    "            self.m_left.cmd(0)\n",
    "            self.m_right.cmd(0)\n",
    "    def read_sensors(self):\n",
    "        \"\"\" returns an array of the line sensor reflectance values\n",
    "        \"\"\"\n",
    "        self.rlock.acquire()\n",
    "        def read(sensor): return sensor.read()\n",
    "        retu=map(read, self.sensors)\n",
    "        self.rlock.release()\n",
    "        return retud\n",
    "    def setLED1(self, state):\n",
    "        self.led1.write(state)\n",
    "    def setLED2(self, state):\n",
    "        self.led2.write(state)\n",
    "    def setLED3(self, state):\n",
    "        self.led3.write(state)\n",
    "    def setLED4(self, state):\n",
    "        self.led4.write(state)"
   ]
  },
  {
   "cell_type": "code",
   "execution_count": 3,
   "metadata": {
    "collapsed": false
   },
   "outputs": [
    {
     "name": "stdout",
     "output_type": "stream",
     "text": [
      "\u001b[0m\u001b[40;33;01m/dev/ttyACM0\u001b[0m  \u001b[01;36m/dev/ttyACM99\u001b[0m@\r\n"
     ]
    }
   ],
   "source": [
    "ls /dev/ttyACM*"
   ]
  },
  {
   "cell_type": "code",
   "execution_count": 4,
   "metadata": {
    "collapsed": false
   },
   "outputs": [],
   "source": [
    "r0=Robot('/dev/ttyACM0')"
   ]
  },
  {
   "cell_type": "code",
   "execution_count": 16,
   "metadata": {
    "collapsed": false
   },
   "outputs": [],
   "source": [
    "delaytime = 0.03\n",
    "\n",
    "for i in range(100):\n",
    "    r0.setLED1(1)\n",
    "    time.sleep(delaytime)\n",
    "    r0.setLED2(1)\n",
    "    time.sleep(delaytime)\n",
    "    r0.setLED3(1)\n",
    "    time.sleep(delaytime)\n",
    "    r0.setLED4(1)\n",
    "    time.sleep(delaytime)\n",
    "    \n",
    "    r0.setLED1(0)\n",
    "    time.sleep(delaytime)\n",
    "    r0.setLED2(0)\n",
    "    time.sleep(delaytime)\n",
    "    r0.setLED3(0)\n",
    "    time.sleep(delaytime)\n",
    "    r0.setLED4(0)\n",
    "    time.sleep(delaytime)"
   ]
  },
  {
   "cell_type": "code",
   "execution_count": 15,
   "metadata": {
    "collapsed": false
   },
   "outputs": [],
   "source": [
    "r0.cmd(0.1,0.5)\n",
    "time.sleep(1)\n",
    "r0.cmd(0,0)"
   ]
  },
  {
   "cell_type": "code",
   "execution_count": 14,
   "metadata": {
    "collapsed": false
   },
   "outputs": [],
   "source": [
    "r0.cmd(1.0,1.0)\n",
    "time.sleep(1)\n",
    "r0.cmd(0,0)"
   ]
  },
  {
   "cell_type": "markdown",
   "metadata": {},
   "source": [
    "Now, Restart the kernel to release ownership of the serial device:\n",
    "\n",
    "File > Kernel > Restart"
   ]
  }
 ],
 "metadata": {
  "kernelspec": {
   "display_name": "Python 2",
   "language": "python",
   "name": "python2"
  },
  "language_info": {
   "codemirror_mode": {
    "name": "ipython",
    "version": 2
   },
   "file_extension": ".py",
   "mimetype": "text/x-python",
   "name": "python",
   "nbconvert_exporter": "python",
   "pygments_lexer": "ipython2",
   "version": "2.7.6"
  }
 },
 "nbformat": 4,
 "nbformat_minor": 0
}
